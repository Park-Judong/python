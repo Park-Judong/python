{
 "cells": [
  {
   "cell_type": "code",
   "execution_count": null,
   "id": "1864bd8a",
   "metadata": {},
   "outputs": [],
   "source": [
    "print('hello')"
   ]
  }
 ],
 "metadata": {
  "language_info": {
   "name": "python"
  }
 },
 "nbformat": 4,
 "nbformat_minor": 5
}
